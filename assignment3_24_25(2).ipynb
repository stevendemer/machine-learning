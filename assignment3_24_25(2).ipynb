{
  "cells": [
    {
      "cell_type": "markdown",
      "metadata": {
        "id": "view-in-github",
        "colab_type": "text"
      },
      "source": [
        "<a href=\"https://colab.research.google.com/github/stevendemer/machine-learning/blob/main/assignment3_24_25(2).ipynb\" target=\"_parent\"><img src=\"https://colab.research.google.com/assets/colab-badge.svg\" alt=\"Open In Colab\"/></a>"
      ]
    },
    {
      "cell_type": "markdown",
      "metadata": {
        "id": "cQ7YzabwjTmk"
      },
      "source": [
        "## Εργασία 3 ##\n",
        "\n",
        "Καλωσήρθατε στην τρίτη σας εργασία. Η εργασία αυτή έχει σκοπό να σας βοηθήσει να εμπεδώσετε τα σύνολα μοντέλων.\n",
        "\n",
        "Στην εργασία αυτή θα πρέπει να συμπληρώσετε κώδικα Python 3 στα σημεία που αναφέρουν # YOUR CODE HERE. Μην τροποποιείτε τον κώδικα που βρίσκεται εκτός αυτών των περιοχών.\n",
        "\n",
        "Πρωτού παραδόσετε την εργασία σας σιγουρευτείτε ότι ο κώδικας σε όλα τα κελιά τρέχει σωστά. Για το σκοπό αυτό επιλέξτε από το μενού **Χρόνος εκτέλεσης (runtime) -> Επανεκίνηση περιόδου λειτουργίας και εκτέλεση όλων**.\n",
        "\n",
        "Συμπληρώστε το όνομα (**NAME**) και το **AEM** σας παρακάτω **εντός των διπλών εισαγωγικών**:"
      ]
    },
    {
      "cell_type": "code",
      "execution_count": null,
      "metadata": {
        "id": "3-rBqXXbjyR0"
      },
      "outputs": [],
      "source": [
        "NAME = \"Stefanos Demertzis\"\n",
        "AEM = \"3467\""
      ]
    },
    {
      "cell_type": "markdown",
      "metadata": {
        "id": "egArYhcsTG-T"
      },
      "source": [
        "**1 (2 μονάδες)** Σε αυτήν την εργασία θα δουλέψουμε με ένα σύνολο δεδομένων δυαδικής ταξινόμησης, από το δημόσιο αποθετήριο δεδομένων και πειραμάτων μηχανικής μάθησης [openml.org](https://www.openml.org/). Μπορείτε να δείτε πως φορτώνουμε σύνολα δεδομένων από το openml.org μέσα από την sklearn μελετώντας την αντίστοιχη [τεκμηρίωση](https://scikit-learn.org/stable/datasets/loading_other_datasets.html#downloading-datasets-from-the-openml-org-repository). Συγκεκριμένα θέλουμε να δουλέψουμε με την έκδοση 1 του Pima Indians Diabetes Database, το οποίο αφορά τη διάγνωση διαβήτη. Χωρίστε το σύνολο δεδομένων σε δεδομένα εκπαίδευσης (X_train, y_train) και ελέγχου (X_test, y_test) σε ποσοστό 70% και 30% αντίστοιχα με τη συνάρτηση train_test_split (τιμή για random_state βάλτε 0)."
      ]
    },
    {
      "cell_type": "code",
      "execution_count": 40,
      "metadata": {
        "deletable": false,
        "id": "qgaPtNAmTCX7",
        "nbgrader": {
          "cell_type": "code",
          "checksum": "a3d34c1c83f83737a14a84cab85c7417",
          "grade": false,
          "grade_id": "cell-88ff30ee4cf342eb",
          "locked": false,
          "schema_version": 3,
          "solution": true,
          "task": false
        }
      },
      "outputs": [],
      "source": [
        "from sklearn.datasets import fetch_openml\n",
        "from sklearn.model_selection import train_test_split\n",
        "\n",
        "X, y = fetch_openml('diabetes', version=1, as_frame=True, return_X_y=True)\n",
        "\n",
        "X_train, X_test, y_train, y_test = train_test_split(\n",
        "    X, y, test_size=0.3, random_state=0\n",
        ")\n",
        "y_train = (y_train == 'tested_positive').astype(int)\n",
        "y_test = (y_test == 'tested_positive').astype(int)\n"
      ]
    },
    {
      "cell_type": "code",
      "execution_count": 41,
      "metadata": {
        "deletable": false,
        "editable": false,
        "id": "19LlgZx5cOLP",
        "nbgrader": {
          "cell_type": "code",
          "checksum": "7b612cdb194e3a6d919b0f0119f34d18",
          "grade": true,
          "grade_id": "cell-25b0cfdbf7e65bfa",
          "locked": true,
          "points": 2,
          "schema_version": 3,
          "solution": false,
          "task": false
        }
      },
      "outputs": [],
      "source": [
        "\"\"\"Τεστ ορθής ανάγνωσης και διαχωρισμού του συνόλου δεδομένων\"\"\"\n",
        "assert X_train['mass'][0] == 33.6\n",
        "assert X_test['pedi'][34] == 0.512"
      ]
    },
    {
      "cell_type": "markdown",
      "metadata": {
        "id": "RB8RexuPciQr"
      },
      "source": [
        "**2 (4 μονάδες)** Υλοποιήστε μια ντετερμινιστική εκδοχή της μεθόδου των τυχαίων υποχώρων, η οποία χτίζει τόσα μοντέλα όσες και οι μεταβλητές εισόδου, κάθε ένα από τα οποία αγνοεί και μία διαφορετική μεταβλητή εισόδου. Π.χ. το πρώτο μοντέλο αγνοεί την πρώτη, το δεύτερο αγνοεί τη δεύτερη κτλ. Χρησιμοποιήστε τη συνάρτηση clone από το sklearn.base για να δημιουργήστε αντίγραφο του βασικού μοντέλου σε κάθε επανάληψη."
      ]
    },
    {
      "cell_type": "code",
      "execution_count": 42,
      "metadata": {
        "deletable": false,
        "id": "KuC_s04KcigR",
        "nbgrader": {
          "cell_type": "code",
          "checksum": "5cade2ae8686482faea2a0be889b1bac",
          "grade": false,
          "grade_id": "cell-635611de8dc6fdf4",
          "locked": false,
          "schema_version": 3,
          "solution": true,
          "task": false
        }
      },
      "outputs": [],
      "source": [
        "import numpy as np\n",
        "from sklearn.tree import DecisionTreeClassifier\n",
        "from sklearn.base import clone\n",
        "from scipy.stats import mode\n",
        "\n",
        "class RandomSubspaceDet:\n",
        "    def __init__(self, estimator=DecisionTreeClassifier()):\n",
        "        self.estimator = estimator\n",
        "        self.models = []\n",
        "        self.feature_indices = []\n",
        "\n",
        "\n",
        "    def fit(self, X_train, y_train):\n",
        "        n_features = X_train.shape[1]\n",
        "        self.models = []\n",
        "        self.feature_indices = []\n",
        "\n",
        "        for i in range(n_features):\n",
        "          # use all the features except the i-th one\n",
        "          cols = [j for j in range(n_features) if j != i]\n",
        "          X_train_subset = X_train.iloc[:, cols]\n",
        "\n",
        "          model = clone(self.estimator)\n",
        "          model.fit(X_train_subset, y_train)\n",
        "          self.models.append(model)\n",
        "          self.feature_indices.append(cols)\n",
        "\n",
        "\n",
        "    def predict(self, X):\n",
        "        predictions = []\n",
        "        for i in range(len(self.models)):\n",
        "          X_subset = X.iloc[:, self.feature_indices[i]]\n",
        "          prediction = self.models[i].predict(X_subset)\n",
        "          # Ensure predictions are integers before appending\n",
        "          prediction = (prediction == 'tested_positive').astype(int) if prediction.dtype.kind in {'U', 'O'} else prediction\n",
        "          predictions.append(prediction)\n",
        "\n",
        "\n",
        "        predictions = np.array(predictions)\n",
        "        majority_votes = np.apply_along_axis(lambda x: np.bincount(x).argmax(), axis=0, arr=predictions)\n",
        "        return majority_votes"
      ]
    },
    {
      "cell_type": "code",
      "execution_count": 43,
      "metadata": {
        "deletable": false,
        "editable": false,
        "id": "iDNUeGUEciwi",
        "nbgrader": {
          "cell_type": "code",
          "checksum": "d1e97b02cf57da7e715ddf6ba1b1ebe4",
          "grade": true,
          "grade_id": "cell-2cd50c46c4c0fd03",
          "locked": true,
          "points": 4,
          "schema_version": 3,
          "solution": false,
          "task": false
        }
      },
      "outputs": [],
      "source": [
        "\"\"\"Τεστ ορθής υλοποίησης RandomSubspaceDet\"\"\"\n",
        "from sklearn.metrics import accuracy_score\n",
        "from sklearn.tree import DecisionTreeClassifier\n",
        "\n",
        "rs = RandomSubspaceDet(estimator=DecisionTreeClassifier(random_state=1))\n",
        "rs.fit(X_train, y_train)\n",
        "assert round(accuracy_score(rs.predict(X_test), y_test), 4) == 0.7446"
      ]
    },
    {
      "cell_type": "markdown",
      "metadata": {
        "id": "n19eEYRNRnG-"
      },
      "source": [
        "**3 (4 μονάδες)** Υλοποιήστε τη μέθοδο AdaBoost όπως παρουσιάστηκε στο μάθημα. Χρησιμοποιήστε τη συνάρτηση clone από το sklearn.base για να δημιουργήστε αντίγραφο του βασικού μοντέλου σε κάθε επανάληψη. Χρησιμοποιήστε την παράμετρο sample_weight της fit του βασικού μοντέλου για να ορίσετε τα βάρη των παραδειγμάτων εκπαίδευσης."
      ]
    },
    {
      "cell_type": "code",
      "execution_count": 44,
      "metadata": {
        "deletable": false,
        "id": "7NOoKPI8TBX6",
        "nbgrader": {
          "cell_type": "code",
          "checksum": "b1ab09761b841c5f05458957fc1ebaf0",
          "grade": false,
          "grade_id": "cell-8e0c8663d7b7430f",
          "locked": false,
          "schema_version": 3,
          "solution": true,
          "task": false
        }
      },
      "outputs": [],
      "source": [
        "import numpy as np\n",
        "from sklearn.tree import DecisionTreeClassifier\n",
        "from sklearn.base import clone\n",
        "\n",
        "class AdaBoost:\n",
        "    def __init__(self, n_estimators=20, estimator=DecisionTreeClassifier(max_depth=1)):\n",
        "        self.estimator = estimator\n",
        "        self.n_estimators = n_estimators\n",
        "        self.models = []\n",
        "        self.alphas = []\n",
        "\n",
        "\n",
        "    def fit(self, X_train, y_train):\n",
        "        n_samples = X_train.shape[0]\n",
        "\n",
        "        w = np.full(n_samples, 1 / n_samples)\n",
        "\n",
        "        self.models = []\n",
        "        self.alphas = []\n",
        "\n",
        "        for _ in range(self.n_estimators):\n",
        "\n",
        "            model = clone(self.estimator)\n",
        "\n",
        "            model.fit(X_train, y_train, sample_weight=w)\n",
        "\n",
        "            y_pred = model.predict(X_train)\n",
        "\n",
        "\n",
        "            miss = (y_pred != y_train)\n",
        "            err = np.sum(w * miss) / np.sum(w)\n",
        "            if err == 0:\n",
        "\n",
        "                alpha = 1\n",
        "                self.models.append(model)\n",
        "                self.alphas.append(alpha)\n",
        "                break\n",
        "            elif err >= 0.5:\n",
        "\n",
        "                continue\n",
        "\n",
        "\n",
        "            alpha = 0.5 * np.log((1 - err) / err)\n",
        "\n",
        "\n",
        "            w = w * np.exp(alpha * miss) * np.exp(-alpha * (1 - miss))\n",
        "\n",
        "\n",
        "            w /= np.sum(w)\n",
        "\n",
        "            self.models.append(model)\n",
        "            self.alphas.append(alpha)\n",
        "\n",
        "\n",
        "\n",
        "\n",
        "    def predict(self, X):\n",
        "\n",
        "        model_preds = np.array([model.predict(X) for model in self.models])\n",
        "\n",
        "        model_preds = np.where(model_preds == 0, -1, 1)\n",
        "\n",
        "\n",
        "        weighted_sum = np.dot(self.alphas, model_preds)\n",
        "\n",
        "\n",
        "        return np.where(weighted_sum >= 0, 1, 0)"
      ]
    },
    {
      "cell_type": "code",
      "execution_count": 45,
      "metadata": {
        "deletable": false,
        "editable": false,
        "id": "jVjqVcv_tmYk",
        "nbgrader": {
          "cell_type": "code",
          "checksum": "2d9bef2abfc7c0b25be8d2dbef07665b",
          "grade": true,
          "grade_id": "cell-a7bee06bbbf9666e",
          "locked": true,
          "points": 4,
          "schema_version": 3,
          "solution": false,
          "task": false
        }
      },
      "outputs": [],
      "source": [
        "\"\"\"Τεστ ορθής υλοποίησης AdaBoost\"\"\"\n",
        "from sklearn.tree import DecisionTreeClassifier\n",
        "from sklearn.metrics import accuracy_score\n",
        "\n",
        "ab = AdaBoost(n_estimators=20, estimator=DecisionTreeClassifier(max_depth=2, random_state=1))\n",
        "ab.fit(X_train, y_train)\n",
        "assert round(accuracy_score(ab.predict(X_test), y_test), 4) == 0.7706\n"
      ]
    },
    {
      "cell_type": "code",
      "execution_count": 46,
      "metadata": {
        "id": "0QkPMoBNz3T5"
      },
      "outputs": [],
      "source": [
        "#Ίδιο αποτέλεσμα παίρνουμε και με την κλάση της sklearn. Ωστόσο υπάρχουν γενικότερα διαφορές στην υλοποίηση της σε σ΄χέση με αυτήν που είδαμε στη θεωρία, όπως η υποστήριξη παραπάνω από 2 κλάσεων και ο διαφορετικός χειρισμός της τυχαιότητας στην εκπαίδευση των επί μέρους μοντέλων.\n",
        "from sklearn.ensemble import AdaBoostClassifier\n",
        "from sklearn.tree import DecisionTreeClassifier\n",
        "\n",
        "ab = AdaBoostClassifier(n_estimators=20, estimator=DecisionTreeClassifier(max_depth=2, random_state=1))\n",
        "ab.fit(X_train, y_train)\n",
        "assert round(accuracy_score(ab.predict(X_test), y_test), 4) == 0.7706"
      ]
    }
  ],
  "metadata": {
    "colab": {
      "provenance": [],
      "include_colab_link": true
    },
    "kernelspec": {
      "display_name": "Python 3 (ipykernel)",
      "language": "python",
      "name": "python3"
    },
    "language_info": {
      "codemirror_mode": {
        "name": "ipython",
        "version": 3
      },
      "file_extension": ".py",
      "mimetype": "text/x-python",
      "name": "python",
      "nbconvert_exporter": "python",
      "pygments_lexer": "ipython3",
      "version": "3.12.3"
    }
  },
  "nbformat": 4,
  "nbformat_minor": 0
}